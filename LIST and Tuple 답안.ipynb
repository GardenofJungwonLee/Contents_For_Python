{
 "cells": [
  {
   "cell_type": "markdown",
   "metadata": {},
   "source": [
    "### List답안"
   ]
  },
  {
   "cell_type": "code",
   "execution_count": 293,
   "metadata": {},
   "outputs": [
    {
     "data": {
      "text/plain": [
       "['tail tomato', 'upside down', 'head tomato', 'tomato']"
      ]
     },
     "execution_count": 293,
     "metadata": {},
     "output_type": "execute_result"
    }
   ],
   "source": [
    "#answer1\n",
    "Vegetable.append(\"tomato\")\n",
    "Vegetable"
   ]
  },
  {
   "cell_type": "code",
   "execution_count": 294,
   "metadata": {},
   "outputs": [
    {
     "data": {
      "text/plain": [
       "['head tomato', 'tail tomato', 'tomato', 'upside down']"
      ]
     },
     "execution_count": 294,
     "metadata": {},
     "output_type": "execute_result"
    }
   ],
   "source": [
    "#answer2\n",
    "Vegetable.sort()\n",
    "Vegetable"
   ]
  },
  {
   "cell_type": "code",
   "execution_count": 295,
   "metadata": {},
   "outputs": [
    {
     "data": {
      "text/plain": [
       "1"
      ]
     },
     "execution_count": 295,
     "metadata": {},
     "output_type": "execute_result"
    }
   ],
   "source": [
    "#answer3\n",
    "Vegetable.count(\"tomato\")"
   ]
  },
  {
   "cell_type": "code",
   "execution_count": 296,
   "metadata": {},
   "outputs": [
    {
     "data": {
      "text/plain": [
       "['head tomato', 'tomato', 'upside down']"
      ]
     },
     "execution_count": 296,
     "metadata": {},
     "output_type": "execute_result"
    }
   ],
   "source": [
    "#answer 4\n",
    "del Vegetable[1]\n",
    "Vegetable"
   ]
  },
  {
   "cell_type": "code",
   "execution_count": 297,
   "metadata": {},
   "outputs": [
    {
     "data": {
      "text/plain": [
       "['tail tomato', 'tomato', 'head tomato']"
      ]
     },
     "execution_count": 297,
     "metadata": {},
     "output_type": "execute_result"
    }
   ],
   "source": [
    "#answer 5\n",
    "Vegetable[0]=\"head tomato\"\n",
    "Vegetable[2]=\"tail tomato\"\n",
    "Vegetable.reverse()\n",
    "Vegetable"
   ]
  },
  {
   "cell_type": "markdown",
   "metadata": {},
   "source": [
    "### Tuple답안"
   ]
  },
  {
   "cell_type": "code",
   "execution_count": 298,
   "metadata": {
    "scrolled": false
   },
   "outputs": [
    {
     "data": {
      "text/plain": [
       "('울퉁불퉁 멋진 몸매에 빠알간 옷을 입고',\n",
       " '새콤달콤 향기 풍기는 멋쟁이 토마토 토마토!',\n",
       " '나는야 주스될 거야',\n",
       " '나는야 케찹될 거야',\n",
       " '나는야 춤을 출거야',\n",
       " '뽐내는 토마토')"
      ]
     },
     "execution_count": 298,
     "metadata": {},
     "output_type": "execute_result"
    }
   ],
   "source": [
    "#answer1\n",
    "lyric1+lyric2"
   ]
  },
  {
   "cell_type": "code",
   "execution_count": 299,
   "metadata": {},
   "outputs": [
    {
     "data": {
      "text/plain": [
       "('울퉁불퉁 멋진 몸매에 빠알간 옷을 입고',\n",
       " '새콤달콤 향기 풍기는 멋쟁이 토마토 토마토!',\n",
       " '나는야 주스될 거야',\n",
       " '나는야 케찹될 거야',\n",
       " '나는야 춤을 출거야',\n",
       " '뽐내는 토마토',\n",
       " '울퉁불퉁 멋진 몸매에 빠알간 옷을 입고',\n",
       " '새콤달콤 향기 풍기는 멋쟁이 토마토 토마토!',\n",
       " '나는야 주스될 거야',\n",
       " '나는야 케찹될 거야',\n",
       " '나는야 춤을 출거야',\n",
       " '뽐내는 토마토')"
      ]
     },
     "execution_count": 299,
     "metadata": {},
     "output_type": "execute_result"
    }
   ],
   "source": [
    "#answer2\n",
    "total=((lyric1+lyric2)*2)\n",
    "total"
   ]
  },
  {
   "cell_type": "code",
   "execution_count": 300,
   "metadata": {},
   "outputs": [
    {
     "data": {
      "text/plain": [
       "12"
      ]
     },
     "execution_count": 300,
     "metadata": {},
     "output_type": "execute_result"
    }
   ],
   "source": [
    "#answer3\n",
    "len(total)\n"
   ]
  },
  {
   "cell_type": "code",
   "execution_count": 305,
   "metadata": {},
   "outputs": [
    {
     "data": {
      "text/plain": [
       "[\"울퉁불퉁 멋진 몸매에'\",\n",
       " \"'빠알간 옷을 입고\",\n",
       " ' 새콤달콤 향기 풍기는',\n",
       " ' 멋쟁이 토마토 토마토!',\n",
       " ' 나는야 주스될 거야',\n",
       " ' 나는야 케찹될 거야',\n",
       " ' 나는야 춤을 출거야',\n",
       " ' 뽐내는 토마토',\n",
       " ' 울퉁불퉁 멋진 몸매에',\n",
       " ' 빠알간 옷을 입고',\n",
       " ' 새콤달콤 향기 풍기는',\n",
       " ' 멋쟁이 토마토 토마토!',\n",
       " ' 나는야 주스될 거야',\n",
       " ' 나는야 케찹될 거야',\n",
       " ' 나는야 춤을 출거야',\n",
       " ' 뽐내는 토마토']"
      ]
     },
     "execution_count": 305,
     "metadata": {},
     "output_type": "execute_result"
    }
   ],
   "source": [
    "#answer4\n",
    "lines = Tomato.split(\",\")\n",
    "lines \n",
    "\n",
    "measure1 =lines[0]\n",
    "measure2 =lines[1]\n",
    "measure3 =lines[2]\n",
    "measure4 =lines[3]\n",
    "measure5 =lines[4]\n",
    "measure6 =lines[5]\n",
    "measure7 =lines[6]\n",
    "measure8 =lines[7]\n",
    "measure9 =lines[8]\n",
    "measure10 =lines[9]\n",
    "measure11 =lines[10]\n",
    "measure12 =lines[11]\n",
    "measure13 =lines[12]\n",
    "measure14 =lines[13]\n",
    "measure15 =lines[14]\n",
    "measure16 =lines[15]\n",
    "\n",
    "measure=[measure1, measure2, measure3, measure4, measure5, measure6, measure7, measure8, measure9, measure10, measure11, measure12, measure13, measure14, measure15,measure16]\n",
    "measure"
   ]
  },
  {
   "cell_type": "code",
   "execution_count": 306,
   "metadata": {},
   "outputs": [
    {
     "data": {
      "text/plain": [
       "[' 멋쟁이 토마토 토마토!', ' 나는야 주스될 거야', ' 나는야 케찹될 거야']"
      ]
     },
     "execution_count": 306,
     "metadata": {},
     "output_type": "execute_result"
    }
   ],
   "source": [
    "#answer5\n",
    "chorus =measure[3:6]\n",
    "chorus\n"
   ]
  },
  {
   "cell_type": "code",
   "execution_count": 307,
   "metadata": {},
   "outputs": [
    {
     "data": {
      "text/plain": [
       "[\"울퉁불퉁 멋진 몸매에'\",\n",
       " \"'빠알간 옷을 입고\",\n",
       " ' 새콤달콤 향기 풍기는',\n",
       " [' 멋쟁이 토마토 토마토!', ' 나는야 주스될 거야', ' 나는야 케찹될 거야'],\n",
       " ' 나는야 춤을 출거야',\n",
       " ' 뽐내는 토마토',\n",
       " ' 울퉁불퉁 멋진 몸매에',\n",
       " ' 빠알간 옷을 입고',\n",
       " ' 새콤달콤 향기 풍기는',\n",
       " ' 멋쟁이 토마토 토마토!',\n",
       " [' 멋쟁이 토마토 토마토!', ' 나는야 주스될 거야', ' 나는야 케찹될 거야'],\n",
       " ' 뽐내는 토마토']"
      ]
     },
     "execution_count": 307,
     "metadata": {},
     "output_type": "execute_result"
    }
   ],
   "source": [
    "measure[3] = chorus\n",
    "del measure[4]\n",
    "del measure[4]\n",
    "\n",
    "\n",
    "measure[10] = chorus\n",
    "del measure[11]\n",
    "del measure[11]\n",
    "\n",
    "measure\n"
   ]
  },
  {
   "cell_type": "code",
   "execution_count": 246,
   "metadata": {},
   "outputs": [
    {
     "data": {
      "text/plain": [
       "['울퉁불퉁 멋진 몸매에 빠알간 옷을 입고',\n",
       " ' 새콤달콤 향기 풍기는',\n",
       " [' 나는야 주스될 거야', ' 나는야 케찹될 거야', ' 나는야 춤을 출거야'],\n",
       " ' 나는야 케찹될 거야',\n",
       " ' 나는야 춤을 출거야',\n",
       " [' 나는야 주스될 거야', ' 나는야 케찹될 거야', ' 나는야 춤을 출거야']]"
      ]
     },
     "execution_count": 246,
     "metadata": {},
     "output_type": "execute_result"
    }
   ],
   "source": [
    "measure"
   ]
  },
  {
   "cell_type": "code",
   "execution_count": 230,
   "metadata": {},
   "outputs": [
    {
     "data": {
      "text/plain": [
       "['울퉁불퉁 멋진 몸매에 빠알간 옷을 입고',\n",
       " ' 새콤달콤 향기 풍기는',\n",
       " [' 나는야 주스될 거야', ' 나는야 케찹될 거야', ' 나는야 춤을 출거야'],\n",
       " ' 나는야 케찹될 거야',\n",
       " ' 뽐내는 토마토',\n",
       " ' 울퉁불퉁 멋진 몸매에',\n",
       " ' 빠알간 옷을 입고',\n",
       " ' 새콤달콤 향기 풍기는',\n",
       " ' 멋쟁이 토마토 토마토!',\n",
       " ' 나는야 주스될 거야',\n",
       " ' 나는야 케찹될 거야',\n",
       " ' 나는야 춤을 출거야']"
      ]
     },
     "execution_count": 230,
     "metadata": {},
     "output_type": "execute_result"
    }
   ],
   "source": [
    "measure[12] = chorus\n",
    "del measure[12]\n",
    "del measure[13]"
   ]
  },
  {
   "cell_type": "code",
   "execution_count": 174,
   "metadata": {},
   "outputs": [
    {
     "data": {
      "text/plain": [
       "'멋쟁이 토마토'"
      ]
     },
     "execution_count": 174,
     "metadata": {},
     "output_type": "execute_result"
    }
   ],
   "source": [
    "#answer6\n",
    "measure.pop()\n"
   ]
  },
  {
   "cell_type": "code",
   "execution_count": 181,
   "metadata": {},
   "outputs": [],
   "source": [
    "#answer7\n",
    "measure[14]=\"멋쟁이 토마토\""
   ]
  }
 ],
 "metadata": {
  "kernelspec": {
   "display_name": "Python 3",
   "language": "python",
   "name": "python3"
  },
  "language_info": {
   "codemirror_mode": {
    "name": "ipython",
    "version": 3
   },
   "file_extension": ".py",
   "mimetype": "text/x-python",
   "name": "python",
   "nbconvert_exporter": "python",
   "pygments_lexer": "ipython3",
   "version": "3.7.4"
  }
 },
 "nbformat": 4,
 "nbformat_minor": 2
}

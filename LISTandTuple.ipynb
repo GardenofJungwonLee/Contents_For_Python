{
 "cells": [
  {
   "cell_type": "markdown",
   "metadata": {},
   "source": [
    "### List"
   ]
  },
  {
   "cell_type": "code",
   "execution_count": 8,
   "metadata": {},
   "outputs": [],
   "source": [
    "#1. 다음과 같은 list가 있습니다. tomato를 추가하세요\n",
    "Vegetable = [\"tomato\", \"upside down\"]\n"
   ]
  },
  {
   "cell_type": "code",
   "execution_count": 13,
   "metadata": {},
   "outputs": [],
   "source": [
    "#2. 위의 배열을 같은 단어끼리 정렬하세요\n"
   ]
  },
  {
   "cell_type": "code",
   "execution_count": 25,
   "metadata": {},
   "outputs": [],
   "source": [
    "#3. tomato의 개수를 구하세요\n"
   ]
  },
  {
   "cell_type": "code",
   "execution_count": 33,
   "metadata": {},
   "outputs": [],
   "source": [
    "#4. 다음을 실행하고 \"upside down\"을 삭제하세요\n",
    "Vegetable = [\"tomato\", \"upside down\",\"tomato\"]"
   ]
  },
  {
   "cell_type": "code",
   "execution_count": 48,
   "metadata": {},
   "outputs": [],
   "source": [
    "#5. 다음을 실행한 후 앞의 \"tomato\"에는 \"head \"를, 뒤의 \"tomato\"에는 \"tail \"을 붙인 후 뒤집어보세요\n",
    "Vegetable = [\"tomato\", \"upside down\",\"tomato\"]"
   ]
  },
  {
   "cell_type": "markdown",
   "metadata": {},
   "source": [
    "### Tuple"
   ]
  },
  {
   "cell_type": "code",
   "execution_count": 78,
   "metadata": {},
   "outputs": [],
   "source": [
    "#1. 다음 1절의 가사 tuple들을 합쳐보세요\n",
    "lyric1=(\"울퉁불퉁 멋진 몸매에 빠알간 옷을 입고\",\"새콤달콤 향기 풍기는 멋쟁이 토마토 토마토!\")\n",
    "lyric2=(\"나는야 주스될 거야\",\"나는야 케찹될 거야\",\"나는야 춤을 출거야\",\"뽐내는 토마토\")"
   ]
  },
  {
   "cell_type": "code",
   "execution_count": 86,
   "metadata": {},
   "outputs": [],
   "source": [
    "#2. 위의 노래의 1절과 2절은 같습니다. 1절과 2절을 하나의 tuple안에 출력하세요\n"
   ]
  },
  {
   "cell_type": "code",
   "execution_count": 89,
   "metadata": {},
   "outputs": [],
   "source": [
    "#3. 위의 노래는 소절별로 나누어져 있습니다 모두 몇 소절인지 출력하세요\n"
   ]
  },
  {
   "cell_type": "code",
   "execution_count": 275,
   "metadata": {},
   "outputs": [],
   "source": [
    "#4. 다음 노래의 소절들을 순서대로 번호를 매겨서 배열에 저장하세요\n",
    "Tomato=\"\"\"울퉁불퉁 멋진 몸매에','빠알간 옷을 입고, 새콤달콤 향기 풍기는, 멋쟁이 토마토 토마토!, 나는야 주스될 거야, 나는야 케찹될 거야, 나는야 춤을 출거야, 뽐내는 토마토, 울퉁불퉁 멋진 몸매에, 빠알간 옷을 입고, 새콤달콤 향기 풍기는, 멋쟁이 토마토 토마토!, 나는야 주스될 거야, 나는야 케찹될 거야, 나는야 춤을 출거야, 뽐내는 토마토\"\"\""
   ]
  },
  {
   "cell_type": "code",
   "execution_count": 196,
   "metadata": {},
   "outputs": [
    {
     "data": {
      "text/plain": [
       "[' 나는야 주스될 거야', ' 나는야 케찹될 거야', ' 나는야 춤을 출거야']"
      ]
     },
     "execution_count": 196,
     "metadata": {},
     "output_type": "execute_result"
    }
   ],
   "source": [
    "#5. 배열에서 후렴만 추출한 배열을 만드세요(후렴:  ' 나는야 주스될 거야', ' 나는야 케찹될 거야', ' 나는야 춤을 출거야', ' 뽐내는 토마토')\n"
   ]
  },
  {
   "cell_type": "code",
   "execution_count": 147,
   "metadata": {},
   "outputs": [],
   "source": [
    "#6. 2절의 가사 중 마지막 부분은 \"뽐내는 토마토\"가 아닙니다 뽑아내주세요\n"
   ]
  },
  {
   "cell_type": "code",
   "execution_count": null,
   "metadata": {},
   "outputs": [],
   "source": [
    "#6. 뽑아낸 소절부분에 \"멋쟁이토마토\"부분을 넣으세요"
   ]
  },
  {
   "cell_type": "code",
   "execution_count": 179,
   "metadata": {},
   "outputs": [],
   "source": [
    "#7. \"멋쟁이토마토\"소절부분을 \"멋쟁이 토마토\"부분으로 바꾸세요\n"
   ]
  },
  {
   "cell_type": "markdown",
   "metadata": {},
   "source": [
    "### List답안"
   ]
  },
  {
   "cell_type": "code",
   "execution_count": 293,
   "metadata": {},
   "outputs": [
    {
     "data": {
      "text/plain": [
       "['tail tomato', 'upside down', 'head tomato', 'tomato']"
      ]
     },
     "execution_count": 293,
     "metadata": {},
     "output_type": "execute_result"
    }
   ],
   "source": [
    "#answer1\n",
    "Vegetable.append(\"tomato\")\n",
    "Vegetable"
   ]
  },
  {
   "cell_type": "code",
   "execution_count": 294,
   "metadata": {},
   "outputs": [
    {
     "data": {
      "text/plain": [
       "['head tomato', 'tail tomato', 'tomato', 'upside down']"
      ]
     },
     "execution_count": 294,
     "metadata": {},
     "output_type": "execute_result"
    }
   ],
   "source": [
    "#answer2\n",
    "Vegetable.sort()\n",
    "Vegetable"
   ]
  },
  {
   "cell_type": "code",
   "execution_count": 295,
   "metadata": {},
   "outputs": [
    {
     "data": {
      "text/plain": [
       "1"
      ]
     },
     "execution_count": 295,
     "metadata": {},
     "output_type": "execute_result"
    }
   ],
   "source": [
    "#answer3\n",
    "Vegetable.count(\"tomato\")"
   ]
  },
  {
   "cell_type": "code",
   "execution_count": 296,
   "metadata": {},
   "outputs": [
    {
     "data": {
      "text/plain": [
       "['head tomato', 'tomato', 'upside down']"
      ]
     },
     "execution_count": 296,
     "metadata": {},
     "output_type": "execute_result"
    }
   ],
   "source": [
    "#answer 4\n",
    "del Vegetable[1]\n",
    "Vegetable"
   ]
  },
  {
   "cell_type": "code",
   "execution_count": 297,
   "metadata": {},
   "outputs": [
    {
     "data": {
      "text/plain": [
       "['tail tomato', 'tomato', 'head tomato']"
      ]
     },
     "execution_count": 297,
     "metadata": {},
     "output_type": "execute_result"
    }
   ],
   "source": [
    "#answer 5\n",
    "Vegetable[0]=\"head tomato\"\n",
    "Vegetable[2]=\"tail tomato\"\n",
    "Vegetable.reverse()\n",
    "Vegetable"
   ]
  },
  {
   "cell_type": "markdown",
   "metadata": {},
   "source": [
    "### Tuple답안"
   ]
  },
  {
   "cell_type": "code",
   "execution_count": 298,
   "metadata": {
    "scrolled": false
   },
   "outputs": [
    {
     "data": {
      "text/plain": [
       "('울퉁불퉁 멋진 몸매에 빠알간 옷을 입고',\n",
       " '새콤달콤 향기 풍기는 멋쟁이 토마토 토마토!',\n",
       " '나는야 주스될 거야',\n",
       " '나는야 케찹될 거야',\n",
       " '나는야 춤을 출거야',\n",
       " '뽐내는 토마토')"
      ]
     },
     "execution_count": 298,
     "metadata": {},
     "output_type": "execute_result"
    }
   ],
   "source": [
    "#answer1\n",
    "lyric1+lyric2"
   ]
  },
  {
   "cell_type": "code",
   "execution_count": 299,
   "metadata": {},
   "outputs": [
    {
     "data": {
      "text/plain": [
       "('울퉁불퉁 멋진 몸매에 빠알간 옷을 입고',\n",
       " '새콤달콤 향기 풍기는 멋쟁이 토마토 토마토!',\n",
       " '나는야 주스될 거야',\n",
       " '나는야 케찹될 거야',\n",
       " '나는야 춤을 출거야',\n",
       " '뽐내는 토마토',\n",
       " '울퉁불퉁 멋진 몸매에 빠알간 옷을 입고',\n",
       " '새콤달콤 향기 풍기는 멋쟁이 토마토 토마토!',\n",
       " '나는야 주스될 거야',\n",
       " '나는야 케찹될 거야',\n",
       " '나는야 춤을 출거야',\n",
       " '뽐내는 토마토')"
      ]
     },
     "execution_count": 299,
     "metadata": {},
     "output_type": "execute_result"
    }
   ],
   "source": [
    "#answer2\n",
    "total=((lyric1+lyric2)*2)\n",
    "total"
   ]
  },
  {
   "cell_type": "code",
   "execution_count": 300,
   "metadata": {},
   "outputs": [
    {
     "data": {
      "text/plain": [
       "12"
      ]
     },
     "execution_count": 300,
     "metadata": {},
     "output_type": "execute_result"
    }
   ],
   "source": [
    "#answer3\n",
    "len(total)\n"
   ]
  },
  {
   "cell_type": "code",
   "execution_count": 305,
   "metadata": {},
   "outputs": [
    {
     "data": {
      "text/plain": [
       "[\"울퉁불퉁 멋진 몸매에'\",\n",
       " \"'빠알간 옷을 입고\",\n",
       " ' 새콤달콤 향기 풍기는',\n",
       " ' 멋쟁이 토마토 토마토!',\n",
       " ' 나는야 주스될 거야',\n",
       " ' 나는야 케찹될 거야',\n",
       " ' 나는야 춤을 출거야',\n",
       " ' 뽐내는 토마토',\n",
       " ' 울퉁불퉁 멋진 몸매에',\n",
       " ' 빠알간 옷을 입고',\n",
       " ' 새콤달콤 향기 풍기는',\n",
       " ' 멋쟁이 토마토 토마토!',\n",
       " ' 나는야 주스될 거야',\n",
       " ' 나는야 케찹될 거야',\n",
       " ' 나는야 춤을 출거야',\n",
       " ' 뽐내는 토마토']"
      ]
     },
     "execution_count": 305,
     "metadata": {},
     "output_type": "execute_result"
    }
   ],
   "source": [
    "#answer4\n",
    "lines = Tomato.split(\",\")\n",
    "lines \n",
    "\n",
    "measure1 =lines[0]\n",
    "measure2 =lines[1]\n",
    "measure3 =lines[2]\n",
    "measure4 =lines[3]\n",
    "measure5 =lines[4]\n",
    "measure6 =lines[5]\n",
    "measure7 =lines[6]\n",
    "measure8 =lines[7]\n",
    "measure9 =lines[8]\n",
    "measure10 =lines[9]\n",
    "measure11 =lines[10]\n",
    "measure12 =lines[11]\n",
    "measure13 =lines[12]\n",
    "measure14 =lines[13]\n",
    "measure15 =lines[14]\n",
    "measure16 =lines[15]\n",
    "\n",
    "measure=[measure1, measure2, measure3, measure4, measure5, measure6, measure7, measure8, measure9, measure10, measure11, measure12, measure13, measure14, measure15,measure16]\n",
    "measure"
   ]
  },
  {
   "cell_type": "code",
   "execution_count": 306,
   "metadata": {},
   "outputs": [
    {
     "data": {
      "text/plain": [
       "[' 멋쟁이 토마토 토마토!', ' 나는야 주스될 거야', ' 나는야 케찹될 거야']"
      ]
     },
     "execution_count": 306,
     "metadata": {},
     "output_type": "execute_result"
    }
   ],
   "source": [
    "#answer5\n",
    "chorus =measure[3:6]\n",
    "chorus\n"
   ]
  },
  {
   "cell_type": "code",
   "execution_count": 307,
   "metadata": {},
   "outputs": [
    {
     "data": {
      "text/plain": [
       "[\"울퉁불퉁 멋진 몸매에'\",\n",
       " \"'빠알간 옷을 입고\",\n",
       " ' 새콤달콤 향기 풍기는',\n",
       " [' 멋쟁이 토마토 토마토!', ' 나는야 주스될 거야', ' 나는야 케찹될 거야'],\n",
       " ' 나는야 춤을 출거야',\n",
       " ' 뽐내는 토마토',\n",
       " ' 울퉁불퉁 멋진 몸매에',\n",
       " ' 빠알간 옷을 입고',\n",
       " ' 새콤달콤 향기 풍기는',\n",
       " ' 멋쟁이 토마토 토마토!',\n",
       " [' 멋쟁이 토마토 토마토!', ' 나는야 주스될 거야', ' 나는야 케찹될 거야'],\n",
       " ' 뽐내는 토마토']"
      ]
     },
     "execution_count": 307,
     "metadata": {},
     "output_type": "execute_result"
    }
   ],
   "source": [
    "measure[3] = chorus\n",
    "del measure[4]\n",
    "del measure[4]\n",
    "\n",
    "\n",
    "measure[10] = chorus\n",
    "del measure[11]\n",
    "del measure[11]\n",
    "\n",
    "measure\n"
   ]
  },
  {
   "cell_type": "code",
   "execution_count": 246,
   "metadata": {},
   "outputs": [
    {
     "data": {
      "text/plain": [
       "['울퉁불퉁 멋진 몸매에 빠알간 옷을 입고',\n",
       " ' 새콤달콤 향기 풍기는',\n",
       " [' 나는야 주스될 거야', ' 나는야 케찹될 거야', ' 나는야 춤을 출거야'],\n",
       " ' 나는야 케찹될 거야',\n",
       " ' 나는야 춤을 출거야',\n",
       " [' 나는야 주스될 거야', ' 나는야 케찹될 거야', ' 나는야 춤을 출거야']]"
      ]
     },
     "execution_count": 246,
     "metadata": {},
     "output_type": "execute_result"
    }
   ],
   "source": [
    "measure"
   ]
  },
  {
   "cell_type": "code",
   "execution_count": 230,
   "metadata": {},
   "outputs": [
    {
     "data": {
      "text/plain": [
       "['울퉁불퉁 멋진 몸매에 빠알간 옷을 입고',\n",
       " ' 새콤달콤 향기 풍기는',\n",
       " [' 나는야 주스될 거야', ' 나는야 케찹될 거야', ' 나는야 춤을 출거야'],\n",
       " ' 나는야 케찹될 거야',\n",
       " ' 뽐내는 토마토',\n",
       " ' 울퉁불퉁 멋진 몸매에',\n",
       " ' 빠알간 옷을 입고',\n",
       " ' 새콤달콤 향기 풍기는',\n",
       " ' 멋쟁이 토마토 토마토!',\n",
       " ' 나는야 주스될 거야',\n",
       " ' 나는야 케찹될 거야',\n",
       " ' 나는야 춤을 출거야']"
      ]
     },
     "execution_count": 230,
     "metadata": {},
     "output_type": "execute_result"
    }
   ],
   "source": [
    "measure[12] = chorus\n",
    "del measure[12]\n",
    "del measure[13]"
   ]
  },
  {
   "cell_type": "code",
   "execution_count": 174,
   "metadata": {},
   "outputs": [
    {
     "data": {
      "text/plain": [
       "'멋쟁이 토마토'"
      ]
     },
     "execution_count": 174,
     "metadata": {},
     "output_type": "execute_result"
    }
   ],
   "source": [
    "#answer6\n",
    "measure.pop()\n"
   ]
  },
  {
   "cell_type": "code",
   "execution_count": 181,
   "metadata": {},
   "outputs": [],
   "source": [
    "#answer7\n",
    "measure[14]=\"멋쟁이 토마토\""
   ]
  }
 ],
 "metadata": {
  "kernelspec": {
   "display_name": "Python 3",
   "language": "python",
   "name": "python3"
  },
  "language_info": {
   "codemirror_mode": {
    "name": "ipython",
    "version": 3
   },
   "file_extension": ".py",
   "mimetype": "text/x-python",
   "name": "python",
   "nbconvert_exporter": "python",
   "pygments_lexer": "ipython3",
   "version": "3.7.4"
  }
 },
 "nbformat": 4,
 "nbformat_minor": 2
}

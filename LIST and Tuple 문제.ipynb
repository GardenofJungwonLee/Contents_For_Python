{
 "cells": [
  {
   "cell_type": "markdown",
   "metadata": {},
   "source": [
    "### List"
   ]
  },
  {
   "cell_type": "code",
   "execution_count": 8,
   "metadata": {},
   "outputs": [],
   "source": [
    "#1. 다음과 같은 list가 있습니다. tomato를 추가하세요\n",
    "Vegetable = [\"tomato\", \"upside down\"]\n"
   ]
  },
  {
   "cell_type": "code",
   "execution_count": 13,
   "metadata": {},
   "outputs": [],
   "source": [
    "#2. 위의 배열을 같은 단어끼리 정렬하세요\n"
   ]
  },
  {
   "cell_type": "code",
   "execution_count": 25,
   "metadata": {},
   "outputs": [],
   "source": [
    "#3. tomato의 개수를 구하세요\n"
   ]
  },
  {
   "cell_type": "code",
   "execution_count": 33,
   "metadata": {},
   "outputs": [],
   "source": [
    "#4. 다음을 실행하고 \"upside down\"을 삭제하세요\n",
    "Vegetable = [\"tomato\", \"upside down\",\"tomato\"]"
   ]
  },
  {
   "cell_type": "code",
   "execution_count": 48,
   "metadata": {},
   "outputs": [],
   "source": [
    "#5. 다음을 실행한 후 앞의 \"tomato\"에는 \"head \"를, 뒤의 \"tomato\"에는 \"tail \"을 붙인 후 뒤집어보세요\n",
    "Vegetable = [\"tomato\", \"upside down\",\"tomato\"]"
   ]
  },
  {
   "cell_type": "markdown",
   "metadata": {},
   "source": [
    "### Tuple"
   ]
  },
  {
   "cell_type": "code",
   "execution_count": 78,
   "metadata": {},
   "outputs": [],
   "source": [
    "#1. 다음 1절의 가사 tuple들을 합쳐보세요\n",
    "lyric1=(\"울퉁불퉁 멋진 몸매에 빠알간 옷을 입고\",\"새콤달콤 향기 풍기는 멋쟁이 토마토 토마토!\")\n",
    "lyric2=(\"나는야 주스될 거야\",\"나는야 케찹될 거야\",\"나는야 춤을 출거야\",\"뽐내는 토마토\")"
   ]
  },
  {
   "cell_type": "code",
   "execution_count": 86,
   "metadata": {},
   "outputs": [],
   "source": [
    "#2. 위의 노래의 1절과 2절은 같습니다. 1절과 2절을 하나의 tuple안에 출력하세요\n"
   ]
  },
  {
   "cell_type": "code",
   "execution_count": 89,
   "metadata": {},
   "outputs": [],
   "source": [
    "#3. 위의 노래는 소절별로 나누어져 있습니다 모두 몇 소절인지 출력하세요\n"
   ]
  },
  {
   "cell_type": "code",
   "execution_count": 275,
   "metadata": {},
   "outputs": [],
   "source": [
    "#4. 다음 노래의 소절들을 순서대로 번호를 매겨서 배열에 저장하세요\n",
    "Tomato=\"\"\"울퉁불퉁 멋진 몸매에','빠알간 옷을 입고, 새콤달콤 향기 풍기는, 멋쟁이 토마토 토마토!, 나는야 주스될 거야, 나는야 케찹될 거야, 나는야 춤을 출거야, 뽐내는 토마토, 울퉁불퉁 멋진 몸매에, 빠알간 옷을 입고, 새콤달콤 향기 풍기는, 멋쟁이 토마토 토마토!, 나는야 주스될 거야, 나는야 케찹될 거야, 나는야 춤을 출거야, 뽐내는 토마토\"\"\""
   ]
  },
  {
   "cell_type": "code",
   "execution_count": 196,
   "metadata": {},
   "outputs": [
    {
     "data": {
      "text/plain": [
       "[' 나는야 주스될 거야', ' 나는야 케찹될 거야', ' 나는야 춤을 출거야']"
      ]
     },
     "execution_count": 196,
     "metadata": {},
     "output_type": "execute_result"
    }
   ],
   "source": [
    "#5. 배열에서 후렴만 추출한 배열을 만드세요(후렴:  ' 나는야 주스될 거야', ' 나는야 케찹될 거야', ' 나는야 춤을 출거야', ' 뽐내는 토마토')\n"
   ]
  },
  {
   "cell_type": "code",
   "execution_count": 147,
   "metadata": {},
   "outputs": [],
   "source": [
    "#6. 2절의 가사 중 마지막 부분은 \"뽐내는 토마토\"가 아닙니다 뽑아내주세요\n"
   ]
  },
  {
   "cell_type": "code",
   "execution_count": null,
   "metadata": {},
   "outputs": [],
   "source": [
    "#7. 뽑아낸 소절부분에 \"멋쟁이토마토\"부분을 넣으세요"
   ]
  },
  {
   "cell_type": "code",
   "execution_count": null,
   "metadata": {},
   "outputs": [],
   "source": [
    "#8. \"멋쟁이토마토\"소절부분을 \"멋쟁이 토마토\"부분으로 바꾸세요"
   ]
  }
 ],
 "metadata": {
  "kernelspec": {
   "display_name": "Python 3",
   "language": "python",
   "name": "python3"
  },
  "language_info": {
   "codemirror_mode": {
    "name": "ipython",
    "version": 3
   },
   "file_extension": ".py",
   "mimetype": "text/x-python",
   "name": "python",
   "nbconvert_exporter": "python",
   "pygments_lexer": "ipython3",
   "version": "3.7.4"
  }
 },
 "nbformat": 4,
 "nbformat_minor": 2
}

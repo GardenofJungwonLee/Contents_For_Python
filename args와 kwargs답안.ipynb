{
 "cells": [
  {
   "cell_type": "markdown",
   "metadata": {},
   "source": [
    "# 옛날 감성을 살려 도서대출을 수기로 하던 것을 function(*args,**kwargs)를 이용하여 만들어봅시다"
   ]
  },
  {
   "cell_type": "markdown",
   "metadata": {},
   "source": [
    "### 문제1. 도서대출일은 20190909이고 반납에정일은 20191229이며 연체료는 100원 입니다, 다음 상황에 맞는 도서 대출 장부를 작성해봅시다."
   ]
  },
  {
   "cell_type": "code",
   "execution_count": null,
   "metadata": {},
   "outputs": [],
   "source": [
    "#답안\n",
    "mylib = {'rental':'20191209', 'deadline':'20191228', 'fee':'100'}\n",
    "\n",
    "def library(**kwargs):\n",
    "    print('대출일은 : ', kwargs['rental'])\n",
    "    print('반납예정일은 : ', kwargs['deadline'])\n",
    "    print('연체료는 :', kwargs['fee'])\n",
    "    \n",
    "library(**mylib)"
   ]
  },
  {
   "cell_type": "markdown",
   "metadata": {},
   "source": [
    "### 문제2. 위에서 작성한 도서대출 장부를 포함하는 대출자(mine)와 도서 목록(해커스 토익 Part 7\",\"지쳤거나 좋아하는 게 없거나\",\"트렌드 코리아 2020)이 포함된 도서장부를 만들어봅시다."
   ]
  },
  {
   "cell_type": "code",
   "execution_count": null,
   "metadata": {},
   "outputs": [],
   "source": [
    "#답안\n",
    "def library(lib, *books,**dates):\n",
    "    print(\"대출자\", lib)\n",
    "    \n",
    "    for book in books:\n",
    "        print(book)\n",
    "    for day in dates:\n",
    "        print(day, \":\", dates[day])\n",
    "library(\"mine\",\"해커스 토익 Part 7\",\"지쳤거나 좋아하는 게 없거나\",\"트렌드 코리아 2020\",대출일=\"20191109\", 반납일=\"20191129\")"
   ]
  }
 ],
 "metadata": {
  "kernelspec": {
   "display_name": "Python 3",
   "language": "python",
   "name": "python3"
  },
  "language_info": {
   "codemirror_mode": {
    "name": "ipython",
    "version": 3
   },
   "file_extension": ".py",
   "mimetype": "text/x-python",
   "name": "python",
   "nbconvert_exporter": "python",
   "pygments_lexer": "ipython3",
   "version": "3.7.4"
  }
 },
 "nbformat": 4,
 "nbformat_minor": 2
}
